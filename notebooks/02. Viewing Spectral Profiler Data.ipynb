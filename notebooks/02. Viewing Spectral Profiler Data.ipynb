{
 "cells": [
  {
   "cell_type": "markdown",
   "metadata": {},
   "source": [
    "## Viewing Spectral Profiler Data"
   ]
  },
  {
   "cell_type": "code",
   "execution_count": 1,
   "metadata": {},
   "outputs": [
    {
     "name": "stderr",
     "output_type": "stream",
     "text": [
      "/home/jlaura/anaconda3/envs/libpysat/lib/python3.6/site-packages/h5py/__init__.py:36: FutureWarning: Conversion of the second argument of issubdtype from `float` to `np.floating` is deprecated. In future, it will be treated as `np.float64 == np.dtype(float).type`.\n",
      "  from ._conv import register_converters as _register_converters\n"
     ]
    },
    {
     "name": "stdout",
     "output_type": "stream",
     "text": [
      "Populating the interactive namespace from numpy and matplotlib\n"
     ]
    }
   ],
   "source": [
    "import libpysat as psat\n",
    "from libpysat.examples import get_path\n",
    "\n",
    "% pylab inline"
   ]
  },
  {
   "cell_type": "code",
   "execution_count": 2,
   "metadata": {},
   "outputs": [],
   "source": [
    "s = psat.Spectra.from_spectral_profiler(get_path('SP_2C_02_02358_S138_E3586.spc'))"
   ]
  },
  {
   "cell_type": "code",
   "execution_count": 3,
   "metadata": {},
   "outputs": [
    {
     "data": {
      "text/html": [
       "<div>\n",
       "<style scoped>\n",
       "    .dataframe tbody tr th:only-of-type {\n",
       "        vertical-align: middle;\n",
       "    }\n",
       "\n",
       "    .dataframe tbody tr th {\n",
       "        vertical-align: top;\n",
       "    }\n",
       "\n",
       "    .dataframe thead th {\n",
       "        text-align: right;\n",
       "    }\n",
       "</style>\n",
       "<table border=\"1\" class=\"dataframe\">\n",
       "  <thead>\n",
       "    <tr style=\"text-align: right;\">\n",
       "      <th></th>\n",
       "      <th></th>\n",
       "      <th>512.6</th>\n",
       "      <th>518.4</th>\n",
       "      <th>524.7</th>\n",
       "      <th>530.4</th>\n",
       "      <th>536.5</th>\n",
       "      <th>542.8000000000001</th>\n",
       "      <th>548.7</th>\n",
       "      <th>554.5</th>\n",
       "      <th>560.5</th>\n",
       "      <th>566.7</th>\n",
       "      <th>...</th>\n",
       "      <th>CALIBRATION</th>\n",
       "      <th>SP_PELTIER</th>\n",
       "      <th>TC_MI_STATUS</th>\n",
       "      <th>CLOCK_COUNT_ERR_FLAG</th>\n",
       "      <th>SPATIAL_RESOLUTION_FLAG</th>\n",
       "      <th>GEOMETRIC_INFO_RECAL_FLAG</th>\n",
       "      <th>SUPPORT_IMAGE_LINE_POSITION</th>\n",
       "      <th>SUPPORT_IMAGE_COLUMN_POSITION</th>\n",
       "      <th>THUMBNAIL_LINE_POSITION</th>\n",
       "      <th>THUMBNAIL_COLUMN_POSITION</th>\n",
       "    </tr>\n",
       "    <tr>\n",
       "      <th>minor</th>\n",
       "      <th>id</th>\n",
       "      <th></th>\n",
       "      <th></th>\n",
       "      <th></th>\n",
       "      <th></th>\n",
       "      <th></th>\n",
       "      <th></th>\n",
       "      <th></th>\n",
       "      <th></th>\n",
       "      <th></th>\n",
       "      <th></th>\n",
       "      <th></th>\n",
       "      <th></th>\n",
       "      <th></th>\n",
       "      <th></th>\n",
       "      <th></th>\n",
       "      <th></th>\n",
       "      <th></th>\n",
       "      <th></th>\n",
       "      <th></th>\n",
       "      <th></th>\n",
       "      <th></th>\n",
       "    </tr>\n",
       "  </thead>\n",
       "  <tbody>\n",
       "    <tr>\n",
       "      <th>RAW</th>\n",
       "      <th>0</th>\n",
       "      <td>5123.0000</td>\n",
       "      <td>5887.0000</td>\n",
       "      <td>6375.0000</td>\n",
       "      <td>6806.0000</td>\n",
       "      <td>7494.0000</td>\n",
       "      <td>7585.0000</td>\n",
       "      <td>7525.0000</td>\n",
       "      <td>7860.0000</td>\n",
       "      <td>8582.0000</td>\n",
       "      <td>9196.0000</td>\n",
       "      <td>...</td>\n",
       "      <td>0</td>\n",
       "      <td>1</td>\n",
       "      <td>1</td>\n",
       "      <td>0</td>\n",
       "      <td>65</td>\n",
       "      <td>67</td>\n",
       "      <td>27</td>\n",
       "      <td>480</td>\n",
       "      <td>13</td>\n",
       "      <td>228</td>\n",
       "    </tr>\n",
       "    <tr>\n",
       "      <th>REF1</th>\n",
       "      <th>0</th>\n",
       "      <td>0.0402</td>\n",
       "      <td>0.0487</td>\n",
       "      <td>0.0497</td>\n",
       "      <td>0.0520</td>\n",
       "      <td>0.0532</td>\n",
       "      <td>0.0551</td>\n",
       "      <td>0.0559</td>\n",
       "      <td>0.0571</td>\n",
       "      <td>0.0594</td>\n",
       "      <td>0.0612</td>\n",
       "      <td>...</td>\n",
       "      <td>0</td>\n",
       "      <td>1</td>\n",
       "      <td>1</td>\n",
       "      <td>0</td>\n",
       "      <td>65</td>\n",
       "      <td>67</td>\n",
       "      <td>27</td>\n",
       "      <td>480</td>\n",
       "      <td>13</td>\n",
       "      <td>228</td>\n",
       "    </tr>\n",
       "    <tr>\n",
       "      <th>REF2</th>\n",
       "      <th>0</th>\n",
       "      <td>0.0397</td>\n",
       "      <td>0.0482</td>\n",
       "      <td>0.0492</td>\n",
       "      <td>0.0515</td>\n",
       "      <td>0.0527</td>\n",
       "      <td>0.0545</td>\n",
       "      <td>0.0553</td>\n",
       "      <td>0.0565</td>\n",
       "      <td>0.0588</td>\n",
       "      <td>0.0605</td>\n",
       "      <td>...</td>\n",
       "      <td>0</td>\n",
       "      <td>1</td>\n",
       "      <td>1</td>\n",
       "      <td>0</td>\n",
       "      <td>65</td>\n",
       "      <td>67</td>\n",
       "      <td>27</td>\n",
       "      <td>480</td>\n",
       "      <td>13</td>\n",
       "      <td>228</td>\n",
       "    </tr>\n",
       "    <tr>\n",
       "      <th>QA</th>\n",
       "      <th>0</th>\n",
       "      <td>288.0000</td>\n",
       "      <td>288.0000</td>\n",
       "      <td>288.0000</td>\n",
       "      <td>288.0000</td>\n",
       "      <td>288.0000</td>\n",
       "      <td>288.0000</td>\n",
       "      <td>288.0000</td>\n",
       "      <td>288.0000</td>\n",
       "      <td>288.0000</td>\n",
       "      <td>288.0000</td>\n",
       "      <td>...</td>\n",
       "      <td>0</td>\n",
       "      <td>1</td>\n",
       "      <td>1</td>\n",
       "      <td>0</td>\n",
       "      <td>65</td>\n",
       "      <td>67</td>\n",
       "      <td>27</td>\n",
       "      <td>480</td>\n",
       "      <td>13</td>\n",
       "      <td>228</td>\n",
       "    </tr>\n",
       "  </tbody>\n",
       "</table>\n",
       "<p>4 rows × 312 columns</p>\n",
       "</div>"
      ],
      "text/plain": [
       "              512.6      518.4      524.7      530.4      536.5  \\\n",
       "minor id                                                          \n",
       "RAW   0   5123.0000  5887.0000  6375.0000  6806.0000  7494.0000   \n",
       "REF1  0      0.0402     0.0487     0.0497     0.0520     0.0532   \n",
       "REF2  0      0.0397     0.0482     0.0492     0.0515     0.0527   \n",
       "QA    0    288.0000   288.0000   288.0000   288.0000   288.0000   \n",
       "\n",
       "          542.8000000000001      548.7      554.5      560.5      566.7  \\\n",
       "minor id                                                                  \n",
       "RAW   0           7585.0000  7525.0000  7860.0000  8582.0000  9196.0000   \n",
       "REF1  0              0.0551     0.0559     0.0571     0.0594     0.0612   \n",
       "REF2  0              0.0545     0.0553     0.0565     0.0588     0.0605   \n",
       "QA    0            288.0000   288.0000   288.0000   288.0000   288.0000   \n",
       "\n",
       "                    ...              CALIBRATION  SP_PELTIER  TC_MI_STATUS  \\\n",
       "minor id            ...                                                      \n",
       "RAW   0             ...                        0           1             1   \n",
       "REF1  0             ...                        0           1             1   \n",
       "REF2  0             ...                        0           1             1   \n",
       "QA    0             ...                        0           1             1   \n",
       "\n",
       "          CLOCK_COUNT_ERR_FLAG  SPATIAL_RESOLUTION_FLAG  \\\n",
       "minor id                                                  \n",
       "RAW   0                      0                       65   \n",
       "REF1  0                      0                       65   \n",
       "REF2  0                      0                       65   \n",
       "QA    0                      0                       65   \n",
       "\n",
       "          GEOMETRIC_INFO_RECAL_FLAG  SUPPORT_IMAGE_LINE_POSITION  \\\n",
       "minor id                                                           \n",
       "RAW   0                          67                           27   \n",
       "REF1  0                          67                           27   \n",
       "REF2  0                          67                           27   \n",
       "QA    0                          67                           27   \n",
       "\n",
       "          SUPPORT_IMAGE_COLUMN_POSITION  THUMBNAIL_LINE_POSITION  \\\n",
       "minor id                                                           \n",
       "RAW   0                             480                       13   \n",
       "REF1  0                             480                       13   \n",
       "REF2  0                             480                       13   \n",
       "QA    0                             480                       13   \n",
       "\n",
       "          THUMBNAIL_COLUMN_POSITION  \n",
       "minor id                             \n",
       "RAW   0                         228  \n",
       "REF1  0                         228  \n",
       "REF2  0                         228  \n",
       "QA    0                         228  \n",
       "\n",
       "[4 rows x 312 columns]"
      ]
     },
     "execution_count": 3,
     "metadata": {},
     "output_type": "execute_result"
    }
   ],
   "source": [
    "s.head(4)"
   ]
  },
  {
   "cell_type": "markdown",
   "metadata": {},
   "source": [
    "## Access the REF data"
   ]
  },
  {
   "cell_type": "code",
   "execution_count": 4,
   "metadata": {},
   "outputs": [
    {
     "data": {
      "text/html": [
       "<div>\n",
       "<style scoped>\n",
       "    .dataframe tbody tr th:only-of-type {\n",
       "        vertical-align: middle;\n",
       "    }\n",
       "\n",
       "    .dataframe tbody tr th {\n",
       "        vertical-align: top;\n",
       "    }\n",
       "\n",
       "    .dataframe thead th {\n",
       "        text-align: right;\n",
       "    }\n",
       "</style>\n",
       "<table border=\"1\" class=\"dataframe\">\n",
       "  <thead>\n",
       "    <tr style=\"text-align: right;\">\n",
       "      <th></th>\n",
       "      <th>major</th>\n",
       "      <th>704.7</th>\n",
       "      <th>710.8000000000001</th>\n",
       "      <th>716.7</th>\n",
       "      <th>722.7</th>\n",
       "      <th>728.7</th>\n",
       "      <th>734.7</th>\n",
       "      <th>740.7</th>\n",
       "      <th>746.8000000000001</th>\n",
       "      <th>752.8000000000001</th>\n",
       "      <th>758.7</th>\n",
       "      <th>...</th>\n",
       "      <th>1523.8000000000002</th>\n",
       "      <th>1531.7</th>\n",
       "      <th>1539.7</th>\n",
       "      <th>1547.7</th>\n",
       "      <th>1555.5</th>\n",
       "      <th>1563.7</th>\n",
       "      <th>1571.7</th>\n",
       "      <th>1579.6000000000001</th>\n",
       "      <th>1587.7</th>\n",
       "      <th>1595.7</th>\n",
       "    </tr>\n",
       "    <tr>\n",
       "      <th>minor</th>\n",
       "      <th>id</th>\n",
       "      <th></th>\n",
       "      <th></th>\n",
       "      <th></th>\n",
       "      <th></th>\n",
       "      <th></th>\n",
       "      <th></th>\n",
       "      <th></th>\n",
       "      <th></th>\n",
       "      <th></th>\n",
       "      <th></th>\n",
       "      <th></th>\n",
       "      <th></th>\n",
       "      <th></th>\n",
       "      <th></th>\n",
       "      <th></th>\n",
       "      <th></th>\n",
       "      <th></th>\n",
       "      <th></th>\n",
       "      <th></th>\n",
       "      <th></th>\n",
       "      <th></th>\n",
       "    </tr>\n",
       "  </thead>\n",
       "  <tbody>\n",
       "    <tr>\n",
       "      <th rowspan=\"5\" valign=\"top\">REF1</th>\n",
       "      <th>0</th>\n",
       "      <td>0.0809</td>\n",
       "      <td>0.0819</td>\n",
       "      <td>0.0830</td>\n",
       "      <td>0.0832</td>\n",
       "      <td>0.0844</td>\n",
       "      <td>0.0842</td>\n",
       "      <td>0.0861</td>\n",
       "      <td>0.0858</td>\n",
       "      <td>0.0864</td>\n",
       "      <td>0.0872</td>\n",
       "      <td>...</td>\n",
       "      <td>0.1673</td>\n",
       "      <td>0.1681</td>\n",
       "      <td>0.1697</td>\n",
       "      <td>0.1692</td>\n",
       "      <td>0.1710</td>\n",
       "      <td>0.1698</td>\n",
       "      <td>0.1699</td>\n",
       "      <td>0.1716</td>\n",
       "      <td>0.1759</td>\n",
       "      <td>0.1733</td>\n",
       "    </tr>\n",
       "    <tr>\n",
       "      <th>1</th>\n",
       "      <td>0.0833</td>\n",
       "      <td>0.0843</td>\n",
       "      <td>0.0855</td>\n",
       "      <td>0.0858</td>\n",
       "      <td>0.0869</td>\n",
       "      <td>0.0867</td>\n",
       "      <td>0.0887</td>\n",
       "      <td>0.0883</td>\n",
       "      <td>0.0890</td>\n",
       "      <td>0.0898</td>\n",
       "      <td>...</td>\n",
       "      <td>0.1696</td>\n",
       "      <td>0.1705</td>\n",
       "      <td>0.1719</td>\n",
       "      <td>0.1714</td>\n",
       "      <td>0.1731</td>\n",
       "      <td>0.1721</td>\n",
       "      <td>0.1717</td>\n",
       "      <td>0.1736</td>\n",
       "      <td>0.1777</td>\n",
       "      <td>0.1751</td>\n",
       "    </tr>\n",
       "    <tr>\n",
       "      <th>2</th>\n",
       "      <td>0.0793</td>\n",
       "      <td>0.0803</td>\n",
       "      <td>0.0814</td>\n",
       "      <td>0.0817</td>\n",
       "      <td>0.0828</td>\n",
       "      <td>0.0825</td>\n",
       "      <td>0.0845</td>\n",
       "      <td>0.0841</td>\n",
       "      <td>0.0848</td>\n",
       "      <td>0.0856</td>\n",
       "      <td>...</td>\n",
       "      <td>0.1655</td>\n",
       "      <td>0.1662</td>\n",
       "      <td>0.1676</td>\n",
       "      <td>0.1672</td>\n",
       "      <td>0.1689</td>\n",
       "      <td>0.1679</td>\n",
       "      <td>0.1677</td>\n",
       "      <td>0.1693</td>\n",
       "      <td>0.1736</td>\n",
       "      <td>0.1712</td>\n",
       "    </tr>\n",
       "    <tr>\n",
       "      <th>3</th>\n",
       "      <td>0.0797</td>\n",
       "      <td>0.0806</td>\n",
       "      <td>0.0818</td>\n",
       "      <td>0.0820</td>\n",
       "      <td>0.0832</td>\n",
       "      <td>0.0830</td>\n",
       "      <td>0.0849</td>\n",
       "      <td>0.0846</td>\n",
       "      <td>0.0852</td>\n",
       "      <td>0.0860</td>\n",
       "      <td>...</td>\n",
       "      <td>0.1648</td>\n",
       "      <td>0.1656</td>\n",
       "      <td>0.1672</td>\n",
       "      <td>0.1668</td>\n",
       "      <td>0.1685</td>\n",
       "      <td>0.1675</td>\n",
       "      <td>0.1672</td>\n",
       "      <td>0.1690</td>\n",
       "      <td>0.1734</td>\n",
       "      <td>0.1708</td>\n",
       "    </tr>\n",
       "    <tr>\n",
       "      <th>4</th>\n",
       "      <td>0.0799</td>\n",
       "      <td>0.0809</td>\n",
       "      <td>0.0821</td>\n",
       "      <td>0.0822</td>\n",
       "      <td>0.0834</td>\n",
       "      <td>0.0833</td>\n",
       "      <td>0.0852</td>\n",
       "      <td>0.0849</td>\n",
       "      <td>0.0855</td>\n",
       "      <td>0.0862</td>\n",
       "      <td>...</td>\n",
       "      <td>0.1694</td>\n",
       "      <td>0.1702</td>\n",
       "      <td>0.1720</td>\n",
       "      <td>0.1715</td>\n",
       "      <td>0.1731</td>\n",
       "      <td>0.1724</td>\n",
       "      <td>0.1721</td>\n",
       "      <td>0.1741</td>\n",
       "      <td>0.1785</td>\n",
       "      <td>0.1759</td>\n",
       "    </tr>\n",
       "  </tbody>\n",
       "</table>\n",
       "<p>5 rows × 122 columns</p>\n",
       "</div>"
      ],
      "text/plain": [
       "major     704.7   710.8   716.7   722.7   728.7   734.7   740.7   746.8   \\\n",
       "minor id                                                                   \n",
       "REF1  0   0.0809  0.0819  0.0830  0.0832  0.0844  0.0842  0.0861  0.0858   \n",
       "      1   0.0833  0.0843  0.0855  0.0858  0.0869  0.0867  0.0887  0.0883   \n",
       "      2   0.0793  0.0803  0.0814  0.0817  0.0828  0.0825  0.0845  0.0841   \n",
       "      3   0.0797  0.0806  0.0818  0.0820  0.0832  0.0830  0.0849  0.0846   \n",
       "      4   0.0799  0.0809  0.0821  0.0822  0.0834  0.0833  0.0852  0.0849   \n",
       "\n",
       "major     752.8   758.7    ...    1523.8  1531.7  1539.7  1547.7  1555.5  \\\n",
       "minor id                   ...                                             \n",
       "REF1  0   0.0864  0.0872   ...    0.1673  0.1681  0.1697  0.1692  0.1710   \n",
       "      1   0.0890  0.0898   ...    0.1696  0.1705  0.1719  0.1714  0.1731   \n",
       "      2   0.0848  0.0856   ...    0.1655  0.1662  0.1676  0.1672  0.1689   \n",
       "      3   0.0852  0.0860   ...    0.1648  0.1656  0.1672  0.1668  0.1685   \n",
       "      4   0.0855  0.0862   ...    0.1694  0.1702  0.1720  0.1715  0.1731   \n",
       "\n",
       "major     1563.7  1571.7  1579.6  1587.7  1595.7  \n",
       "minor id                                          \n",
       "REF1  0   0.1698  0.1699  0.1716  0.1759  0.1733  \n",
       "      1   0.1721  0.1717  0.1736  0.1777  0.1751  \n",
       "      2   0.1679  0.1677  0.1693  0.1736  0.1712  \n",
       "      3   0.1675  0.1672  0.1690  0.1734  0.1708  \n",
       "      4   0.1724  0.1721  0.1741  0.1785  0.1759  \n",
       "\n",
       "[5 rows x 122 columns]"
      ]
     },
     "execution_count": 4,
     "metadata": {},
     "output_type": "execute_result"
    }
   ],
   "source": [
    "subs = s.get['REF1', :,  700:1600]\n",
    "subs.head(5)"
   ]
  },
  {
   "cell_type": "markdown",
   "metadata": {},
   "source": [
    "## Continuum Correct the Data\n"
   ]
  },
  {
   "cell_type": "code",
   "execution_count": 5,
   "metadata": {},
   "outputs": [],
   "source": [
    "a = subs.continuum_correction(nodes=[704, 1595])\n",
    "a = a.get[:,700:1600]  # This is due to a bug as well."
   ]
  },
  {
   "cell_type": "code",
   "execution_count": 6,
   "metadata": {},
   "outputs": [
    {
     "data": {
      "text/html": [
       "<div>\n",
       "<style scoped>\n",
       "    .dataframe tbody tr th:only-of-type {\n",
       "        vertical-align: middle;\n",
       "    }\n",
       "\n",
       "    .dataframe tbody tr th {\n",
       "        vertical-align: top;\n",
       "    }\n",
       "\n",
       "    .dataframe thead th {\n",
       "        text-align: right;\n",
       "    }\n",
       "</style>\n",
       "<table border=\"1\" class=\"dataframe\">\n",
       "  <thead>\n",
       "    <tr style=\"text-align: right;\">\n",
       "      <th>major</th>\n",
       "      <th>704.7</th>\n",
       "      <th>710.8000000000001</th>\n",
       "      <th>716.7</th>\n",
       "      <th>722.7</th>\n",
       "      <th>728.7</th>\n",
       "      <th>734.7</th>\n",
       "      <th>740.7</th>\n",
       "      <th>746.8000000000001</th>\n",
       "      <th>752.8000000000001</th>\n",
       "      <th>758.7</th>\n",
       "      <th>...</th>\n",
       "      <th>1523.8000000000002</th>\n",
       "      <th>1531.7</th>\n",
       "      <th>1539.7</th>\n",
       "      <th>1547.7</th>\n",
       "      <th>1555.5</th>\n",
       "      <th>1563.7</th>\n",
       "      <th>1571.7</th>\n",
       "      <th>1579.6000000000001</th>\n",
       "      <th>1587.7</th>\n",
       "      <th>1595.7</th>\n",
       "    </tr>\n",
       "  </thead>\n",
       "  <tbody>\n",
       "    <tr>\n",
       "      <th>0</th>\n",
       "      <td>1.0</td>\n",
       "      <td>1.004506</td>\n",
       "      <td>1.010415</td>\n",
       "      <td>1.005236</td>\n",
       "      <td>1.012125</td>\n",
       "      <td>1.002248</td>\n",
       "      <td>1.017330</td>\n",
       "      <td>1.006264</td>\n",
       "      <td>1.005960</td>\n",
       "      <td>1.008092</td>\n",
       "      <td>...</td>\n",
       "      <td>1.008781</td>\n",
       "      <td>1.008622</td>\n",
       "      <td>1.013179</td>\n",
       "      <td>1.005215</td>\n",
       "      <td>1.011050</td>\n",
       "      <td>0.998932</td>\n",
       "      <td>0.994666</td>\n",
       "      <td>0.999823</td>\n",
       "      <td>1.019885</td>\n",
       "      <td>1.0</td>\n",
       "    </tr>\n",
       "    <tr>\n",
       "      <th>1</th>\n",
       "      <td>1.0</td>\n",
       "      <td>1.004427</td>\n",
       "      <td>1.011399</td>\n",
       "      <td>1.007580</td>\n",
       "      <td>1.013143</td>\n",
       "      <td>1.003578</td>\n",
       "      <td>1.019434</td>\n",
       "      <td>1.007559</td>\n",
       "      <td>1.008433</td>\n",
       "      <td>1.010537</td>\n",
       "      <td>...</td>\n",
       "      <td>1.011377</td>\n",
       "      <td>1.011833</td>\n",
       "      <td>1.015176</td>\n",
       "      <td>1.007320</td>\n",
       "      <td>1.012528</td>\n",
       "      <td>1.001729</td>\n",
       "      <td>0.994628</td>\n",
       "      <td>1.000916</td>\n",
       "      <td>1.019648</td>\n",
       "      <td>1.0</td>\n",
       "    </tr>\n",
       "    <tr>\n",
       "      <th>2</th>\n",
       "      <td>1.0</td>\n",
       "      <td>1.004639</td>\n",
       "      <td>1.010707</td>\n",
       "      <td>1.006696</td>\n",
       "      <td>1.012529</td>\n",
       "      <td>1.001283</td>\n",
       "      <td>1.017911</td>\n",
       "      <td>1.005472</td>\n",
       "      <td>1.006395</td>\n",
       "      <td>1.008605</td>\n",
       "      <td>...</td>\n",
       "      <td>1.010477</td>\n",
       "      <td>1.009727</td>\n",
       "      <td>1.013154</td>\n",
       "      <td>1.005719</td>\n",
       "      <td>1.011052</td>\n",
       "      <td>1.000003</td>\n",
       "      <td>0.993928</td>\n",
       "      <td>0.998588</td>\n",
       "      <td>1.018930</td>\n",
       "      <td>1.0</td>\n",
       "    </tr>\n",
       "    <tr>\n",
       "      <th>3</th>\n",
       "      <td>1.0</td>\n",
       "      <td>1.003440</td>\n",
       "      <td>1.010788</td>\n",
       "      <td>1.005636</td>\n",
       "      <td>1.012734</td>\n",
       "      <td>1.002811</td>\n",
       "      <td>1.018220</td>\n",
       "      <td>1.007089</td>\n",
       "      <td>1.006878</td>\n",
       "      <td>1.009138</td>\n",
       "      <td>...</td>\n",
       "      <td>1.008268</td>\n",
       "      <td>1.008180</td>\n",
       "      <td>1.012877</td>\n",
       "      <td>1.005472</td>\n",
       "      <td>1.010860</td>\n",
       "      <td>0.999832</td>\n",
       "      <td>0.993192</td>\n",
       "      <td>0.999090</td>\n",
       "      <td>1.020108</td>\n",
       "      <td>1.0</td>\n",
       "    </tr>\n",
       "    <tr>\n",
       "      <th>4</th>\n",
       "      <td>1.0</td>\n",
       "      <td>1.004255</td>\n",
       "      <td>1.011172</td>\n",
       "      <td>1.004406</td>\n",
       "      <td>1.011082</td>\n",
       "      <td>1.002017</td>\n",
       "      <td>1.016964</td>\n",
       "      <td>1.005495</td>\n",
       "      <td>1.004907</td>\n",
       "      <td>1.005621</td>\n",
       "      <td>...</td>\n",
       "      <td>1.007415</td>\n",
       "      <td>1.007075</td>\n",
       "      <td>1.012561</td>\n",
       "      <td>1.004520</td>\n",
       "      <td>1.008925</td>\n",
       "      <td>0.999697</td>\n",
       "      <td>0.992995</td>\n",
       "      <td>0.999625</td>\n",
       "      <td>1.019778</td>\n",
       "      <td>1.0</td>\n",
       "    </tr>\n",
       "  </tbody>\n",
       "</table>\n",
       "<p>5 rows × 122 columns</p>\n",
       "</div>"
      ],
      "text/plain": [
       "major  704.7     710.8     716.7     722.7     728.7     734.7     740.7   \\\n",
       "0         1.0  1.004506  1.010415  1.005236  1.012125  1.002248  1.017330   \n",
       "1         1.0  1.004427  1.011399  1.007580  1.013143  1.003578  1.019434   \n",
       "2         1.0  1.004639  1.010707  1.006696  1.012529  1.001283  1.017911   \n",
       "3         1.0  1.003440  1.010788  1.005636  1.012734  1.002811  1.018220   \n",
       "4         1.0  1.004255  1.011172  1.004406  1.011082  1.002017  1.016964   \n",
       "\n",
       "major    746.8     752.8     758.7    ...      1523.8    1531.7    1539.7  \\\n",
       "0      1.006264  1.005960  1.008092   ...    1.008781  1.008622  1.013179   \n",
       "1      1.007559  1.008433  1.010537   ...    1.011377  1.011833  1.015176   \n",
       "2      1.005472  1.006395  1.008605   ...    1.010477  1.009727  1.013154   \n",
       "3      1.007089  1.006878  1.009138   ...    1.008268  1.008180  1.012877   \n",
       "4      1.005495  1.004907  1.005621   ...    1.007415  1.007075  1.012561   \n",
       "\n",
       "major    1547.7    1555.5    1563.7    1571.7    1579.6    1587.7  1595.7  \n",
       "0      1.005215  1.011050  0.998932  0.994666  0.999823  1.019885     1.0  \n",
       "1      1.007320  1.012528  1.001729  0.994628  1.000916  1.019648     1.0  \n",
       "2      1.005719  1.011052  1.000003  0.993928  0.998588  1.018930     1.0  \n",
       "3      1.005472  1.010860  0.999832  0.993192  0.999090  1.020108     1.0  \n",
       "4      1.004520  1.008925  0.999697  0.992995  0.999625  1.019778     1.0  \n",
       "\n",
       "[5 rows x 122 columns]"
      ]
     },
     "execution_count": 6,
     "metadata": {},
     "output_type": "execute_result"
    }
   ],
   "source": [
    "a.head(5)"
   ]
  },
  {
   "cell_type": "markdown",
   "metadata": {},
   "source": [
    "## Visualization: Plotting the Corrected Continuum"
   ]
  },
  {
   "cell_type": "code",
   "execution_count": 7,
   "metadata": {},
   "outputs": [
    {
     "data": {
      "text/plain": [
       "<matplotlib.axes._subplots.AxesSubplot at 0x7f52054ad780>"
      ]
     },
     "execution_count": 7,
     "metadata": {},
     "output_type": "execute_result"
    },
    {
     "data": {
      "image/png": "[encoded data removed]",
      "text/plain": [
       "<matplotlib.figure.Figure at 0x7f52054efeb8>"
      ]
     },
     "metadata": {},
     "output_type": "display_data"
    }
   ],
   "source": [
    "a.get[0].plot()"
   ]
  },
  {
   "cell_type": "code",
   "execution_count": 8,
   "metadata": {},
   "outputs": [
    {
     "data": {
      "text/plain": [
       "<matplotlib.axes._subplots.AxesSubplot at 0x7f5203405278>"
      ]
     },
     "execution_count": 8,
     "metadata": {},
     "output_type": "execute_result"
    },
    {
     "data": {
      "image/png": "[encoded data removed]",
      "text/plain": [
       "<matplotlib.figure.Figure at 0x7f52033d67f0>"
      ]
     },
     "metadata": {},
     "output_type": "display_data"
    }
   ],
   "source": [
    "a.get[1].plot()"
   ]
  },
  {
   "cell_type": "code",
   "execution_count": 10,
   "metadata": {},
   "outputs": [
    {
     "data": {
      "text/plain": [
       "<matplotlib.axes._subplots.AxesSubplot at 0x7f52033ae780>"
      ]
     },
     "execution_count": 10,
     "metadata": {},
     "output_type": "execute_result"
    },
    {
     "data": {
      "image/png": "[encoded data removed]",
      "text/plain": [
       "<matplotlib.figure.Figure at 0x7f52054ef278>"
      ]
     },
     "metadata": {},
     "output_type": "display_data"
    }
   ],
   "source": [
    "a.get[37].plot()"
   ]
  },
  {
   "cell_type": "markdown",
   "metadata": {},
   "source": [
    "# Transformations: Methods to Alter the Spectrum"
   ]
  },
  {
   "cell_type": "code",
   "execution_count": 26,
   "metadata": {},
   "outputs": [],
   "source": [
    "from libpysat.transform.utils import boxcar"
   ]
  },
  {
   "cell_type": "code",
   "execution_count": 36,
   "metadata": {},
   "outputs": [
    {
     "data": {
      "text/plain": [
       "<matplotlib.axes._subplots.AxesSubplot at 0x7f52019f3860>"
      ]
     },
     "execution_count": 36,
     "metadata": {},
     "output_type": "execute_result"
    },
    {
     "data": {
      "image/png": "[encoded data removed]",
      "text/plain": [
       "<matplotlib.figure.Figure at 0x7f520109e550>"
      ]
     },
     "metadata": {},
     "output_type": "display_data"
    }
   ],
   "source": [
    "a.get[0].plot()"
   ]
  },
  {
   "cell_type": "code",
   "execution_count": 32,
   "metadata": {},
   "outputs": [
    {
     "data": {
      "text/plain": [
       "<matplotlib.axes._subplots.AxesSubplot at 0x7f52014c81d0>"
      ]
     },
     "execution_count": 32,
     "metadata": {},
     "output_type": "execute_result"
    },
    {
     "data": {
      "image/png": "[encoded data removed]",
      "text/plain": [
       "<matplotlib.figure.Figure at 0x7f5200d2f588>"
      ]
     },
     "metadata": {},
     "output_type": "display_data"
    }
   ],
   "source": [
    "b = boxcar(a.get[0])\n",
    "b = b.iloc[1:-1]\n",
    "b.plot()"
   ]
  },
  {
   "cell_type": "markdown",
   "metadata": {},
   "source": [
    "## Horgan Analytics \n",
    "Here we demonstrate the application of some analysis methods published by Briony Horgan."
   ]
  },
  {
   "cell_type": "code",
   "execution_count": 28,
   "metadata": {},
   "outputs": [],
   "source": [
    "from libpysat.transform.utils import band_area, band_asymmetry, band_center, band_minima"
   ]
  },
  {
   "cell_type": "markdown",
   "metadata": {},
   "source": [
    "### Find the band minima between two end members"
   ]
  },
  {
   "cell_type": "code",
   "execution_count": 35,
   "metadata": {},
   "outputs": [
    {
     "data": {
      "text/plain": [
       "[<matplotlib.lines.Line2D at 0x7f5200dfdbe0>]"
      ]
     },
     "execution_count": 35,
     "metadata": {},
     "output_type": "execute_result"
    },
    {
     "data": {
      "image/png": "[encoded data removed]",
      "text/plain": [
       "<matplotlib.figure.Figure at 0x7f5200d02be0>"
      ]
     },
     "metadata": {},
     "output_type": "display_data"
    }
   ],
   "source": [
    "center, wv = band_minima(b, 800, 1000)\n",
    "b.plot()\n",
    "plot(center, wv, 'r*')"
   ]
  },
  {
   "cell_type": "markdown",
   "metadata": {},
   "source": [
    "### Fit an nth degree polynomial to band center"
   ]
  },
  {
   "cell_type": "code",
   "execution_count": 45,
   "metadata": {},
   "outputs": [
    {
     "data": {
      "text/plain": [
       "<matplotlib.axes._subplots.AxesSubplot at 0x7f5200d89f98>"
      ]
     },
     "execution_count": 45,
     "metadata": {},
     "output_type": "execute_result"
    },
    {
     "data": {
      "image/png": "[encoded data removed]",
      "text/plain": [
       "<matplotlib.figure.Figure at 0x7f5201359f28>"
      ]
     },
     "metadata": {},
     "output_type": "display_data"
    }
   ],
   "source": [
    "center, center_fit = band_center(b, 800, 1000)\n",
    "b.plot()\n",
    "center_fit.plot(linewidth=3)"
   ]
  },
  {
   "cell_type": "markdown",
   "metadata": {},
   "source": [
    "### Area under 1um"
   ]
  },
  {
   "cell_type": "code",
   "execution_count": 44,
   "metadata": {},
   "outputs": [
    {
     "data": {
      "text/plain": [
       "-29.18381281770435"
      ]
     },
     "execution_count": 44,
     "metadata": {},
     "output_type": "execute_result"
    }
   ],
   "source": [
    "band_area(b, 750, 1000)"
   ]
  },
  {
   "cell_type": "code",
   "execution_count": null,
   "metadata": {},
   "outputs": [],
   "source": []
  }
 ],
 "metadata": {
  "kernelspec": {
   "display_name": "libpysat",
   "language": "python",
   "name": "libpysat"
  },
  "language_info": {
   "codemirror_mode": {
    "name": "ipython",
    "version": 3
   },
   "file_extension": ".py",
   "mimetype": "text/x-python",
   "name": "python",
   "nbconvert_exporter": "python",
   "pygments_lexer": "ipython3",
   "version": "3.6.4"
  }
 },
 "nbformat": 4,
 "nbformat_minor": 2
}
